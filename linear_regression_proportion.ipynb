{
 "cells": [
  {
   "cell_type": "markdown",
   "id": "1cedc717",
   "metadata": {},
   "source": [
    "First, we import some of the packages that we will use. Packages are code written by someone else that we can use. In this example, we are using the entire \"pandas\" package and the package is reference by the variable \"pd\". In addition, we are using the \"variance_inflation_factor\" method from the \"statsmodel\"s package."
   ]
  },
  {
   "cell_type": "code",
   "execution_count": null,
   "id": "2f0af759",
   "metadata": {},
   "outputs": [],
   "source": [
    "import pandas as pd\n",
    "from statsmodels.stats.outliers_influence import variance_inflation_factor"
   ]
  },
  {
   "cell_type": "markdown",
   "id": "e6957894",
   "metadata": {},
   "source": [
    "## 1. Importing Data\n",
    "#### 1.1 Importing data from excel to dataframe\n",
    "This code chunk imports the sheet \"T18\" from the excel \"t-18-22.xls\" and store it in the \"type_of_dwelling_df\" variable."
   ]
  },
  {
   "cell_type": "code",
   "execution_count": null,
   "id": "4ed3d332",
   "metadata": {},
   "outputs": [],
   "source": [
    "type_of_dwelling_df = pd.read_excel('t18-22.xls', 'T18')"
   ]
  },
  {
   "cell_type": "markdown",
   "id": "4df855db",
   "metadata": {},
   "source": [
    "## 2. Basic Data Exploration\n",
    "#### 2.1 First/last 5 records\n",
    "This code chunk the first 5 records. We can also show the last 5 records using \"type_of_dwelling_df.tail()\"."
   ]
  },
  {
   "cell_type": "code",
   "execution_count": null,
   "id": "e5bff6e2",
   "metadata": {
    "scrolled": true
   },
   "outputs": [],
   "source": [
    "type_of_dwelling_df.head() "
   ]
  },
  {
   "cell_type": "markdown",
   "id": "3847fc1f",
   "metadata": {},
   "source": [
    "#### 2.2 Columns"
   ]
  },
  {
   "cell_type": "code",
   "execution_count": null,
   "id": "123f1113",
   "metadata": {
    "scrolled": true
   },
   "outputs": [],
   "source": [
    "type_of_dwelling_df.columns"
   ]
  },
  {
   "cell_type": "markdown",
   "id": "56b26159",
   "metadata": {},
   "source": [
    "#### 2.3 Basic column statistics"
   ]
  },
  {
   "cell_type": "code",
   "execution_count": null,
   "id": "99e9f30e",
   "metadata": {
    "scrolled": false
   },
   "outputs": [],
   "source": [
    "type_of_dwelling_df.describe()"
   ]
  },
  {
   "cell_type": "markdown",
   "id": "6b7dde41",
   "metadata": {
    "scrolled": true
   },
   "source": [
    "## 3. Using dataframe\n",
    "### 3.1 Changing column name\n",
    "Column name should preferably start with alphabet and not contain space"
   ]
  },
  {
   "cell_type": "code",
   "execution_count": null,
   "id": "4656a6d6",
   "metadata": {},
   "outputs": [],
   "source": [
    "type_of_dwelling_df.columns = ['planning_area', 'flats_1_2_room', 'flats_3_room', 'flats_4_room',\n",
    "       'flats_5_room_and_executive', 'condominiums_and_other_apartments',\n",
    "       'landed_properties', 'others']\n",
    "type_of_dwelling_df.head()"
   ]
  },
  {
   "cell_type": "markdown",
   "id": "0f451735",
   "metadata": {},
   "source": [
    "#### 3.2 Getting subset of columns\n",
    "We can get column by using a dot followed by the column name. If we did not rename the columns, this way of access column will not work for those columns with space and those that starts with a number."
   ]
  },
  {
   "cell_type": "code",
   "execution_count": null,
   "id": "b3b1d512",
   "metadata": {
    "scrolled": true
   },
   "outputs": [],
   "source": [
    "type_of_dwelling_df.planning_area"
   ]
  },
  {
   "cell_type": "markdown",
   "id": "5fc2620e",
   "metadata": {},
   "source": [
    "An alternative to the dot-column name way is using the bracket notation."
   ]
  },
  {
   "cell_type": "code",
   "execution_count": null,
   "id": "f1746b9b",
   "metadata": {
    "scrolled": true
   },
   "outputs": [],
   "source": [
    "type_of_dwelling_df['planning_area']"
   ]
  },
  {
   "cell_type": "markdown",
   "id": "403cb883",
   "metadata": {},
   "source": [
    "The bracket notation can also be used to pull a list of columns."
   ]
  },
  {
   "cell_type": "code",
   "execution_count": null,
   "id": "22405447",
   "metadata": {},
   "outputs": [],
   "source": [
    "type_of_dwelling_df[['planning_area','others']]"
   ]
  },
  {
   "cell_type": "markdown",
   "id": "868312eb",
   "metadata": {
    "scrolled": true
   },
   "source": [
    "#### 3.2 Calculations\n",
    "We can perform calculations like finding out the number of households in each planning area. "
   ]
  },
  {
   "cell_type": "code",
   "execution_count": null,
   "id": "5905d5fc",
   "metadata": {
    "scrolled": true
   },
   "outputs": [],
   "source": [
    "total = type_of_dwelling_df.flats_1_2_room \\\n",
    "        + type_of_dwelling_df.flats_3_room \\\n",
    "        + type_of_dwelling_df.flats_4_room \\\n",
    "        + type_of_dwelling_df.flats_5_room_and_executive \\\n",
    "        + type_of_dwelling_df.condominiums_and_other_apartments \\\n",
    "        + type_of_dwelling_df.landed_properties \\\n",
    "        + type_of_dwelling_df.others\n",
    "\n",
    "total"
   ]
  },
  {
   "cell_type": "markdown",
   "id": "90f3b00a",
   "metadata": {},
   "source": [
    "Instead of writing a code to do a row-wise sum. We can also call the \"sum\" method to do it. The \"axis\" of the sum column indicates if it is supposed to perform a row-wise sum (1) or a column-wise sum (0)."
   ]
  },
  {
   "cell_type": "code",
   "execution_count": null,
   "id": "79c64c4e",
   "metadata": {
    "scrolled": true
   },
   "outputs": [],
   "source": [
    "numerical_columns = type_of_dwelling_df.columns[1:]\n",
    "type_of_dwelling_df[numerical_columns].sum(axis=1)"
   ]
  },
  {
   "cell_type": "markdown",
   "id": "c6f29e60",
   "metadata": {},
   "source": [
    "We can also update each column to be a proportion of the total instead of raw number."
   ]
  },
  {
   "cell_type": "code",
   "execution_count": null,
   "id": "425729e3",
   "metadata": {
    "scrolled": true
   },
   "outputs": [],
   "source": [
    "for c in numerical_columns:\n",
    "    type_of_dwelling_df[c] /=total\n",
    "type_of_dwelling_df.head()"
   ]
  },
  {
   "cell_type": "markdown",
   "id": "449a5f19",
   "metadata": {},
   "source": [
    "#### 3.3 Creating new data frame"
   ]
  },
  {
   "cell_type": "code",
   "execution_count": null,
   "id": "1d2b8c18",
   "metadata": {},
   "outputs": [],
   "source": [
    "vif_data = pd.DataFrame()\n",
    "vif_data"
   ]
  },
  {
   "cell_type": "markdown",
   "id": "29481244",
   "metadata": {},
   "source": [
    "#### 3.4 Creating a new column"
   ]
  },
  {
   "cell_type": "code",
   "execution_count": null,
   "id": "648f624b",
   "metadata": {},
   "outputs": [],
   "source": [
    "vif_data[\"feature\"] = numerical_columns\n",
    "vif_data"
   ]
  },
  {
   "cell_type": "markdown",
   "id": "74616c56",
   "metadata": {},
   "source": [
    "In this example, we are using the \"variance_inflation_factor\" function to calculate the [VIF](https://en.wikipedia.org/wiki/Variance_inflation_factor) (Variance inflation factor)  which is a measurement of multicolliearity introduced by a column. Multicolliearity occurs when one more more columns are providing redundant data. In this example, we obtained the proportion of each type of dwelling. Since they are proportions, their total must add up to 1. Therefore, if one column is removed, no information is lost. As an exmaple, if a + b + c = 1, if a and b are known, we can always calculate c.\n",
    "\n",
    "Another example of multicolliearity is when two or more columns are highly correlated. Examples of perfect corelation are:\n",
    "1. Having the two column high in cm and another call height in inches.\n",
    "2. Having one column qty and the other column cost and the unit cost are all the same.\n",
    "\n",
    "A rule of thumb is that if a feature has VIF>10 then multicollinearity is high. A cutoff of 5 is also commonly used."
   ]
  },
  {
   "cell_type": "code",
   "execution_count": null,
   "id": "d5601535",
   "metadata": {},
   "outputs": [],
   "source": [
    "vif_data[\"VIF\"] = [variance_inflation_factor(type_of_dwelling_df[numerical_columns].values, i) for i in range(len(numerical_columns))]        \n",
    "vif_data"
   ]
  },
  {
   "cell_type": "markdown",
   "id": "e45c521f",
   "metadata": {},
   "source": [
    "#### 3.5 Removing column(s)"
   ]
  },
  {
   "cell_type": "code",
   "execution_count": null,
   "id": "9d03446f",
   "metadata": {},
   "outputs": [],
   "source": [
    "type_of_dwelling_df.drop('flats_4_room', inplace=True, axis=1)"
   ]
  },
  {
   "cell_type": "markdown",
   "id": "9a6eeaa5",
   "metadata": {},
   "source": [
    "In this below code chunk, we are importing the the \"T22\" sheet in the \"t18-22.xls\", making the numbers a proportion of the area's total household,  keeping only the \"Planning Area\" and \"$10,000 & over\" columns and rename the two columns appropriately."
   ]
  },
  {
   "cell_type": "code",
   "execution_count": null,
   "id": "f38ba50e",
   "metadata": {},
   "outputs": [],
   "source": [
    "household_income_df = pd.read_excel('t18-22.xls', 'T22')\n",
    "total = household_income_df[household_income_df.columns[1:]].sum(axis=1)\n",
    "for c in household_income_df.columns:\n",
    "    if c != 'Planning Area':\n",
    "        household_income_df[c] = household_income_df[c] / total\n",
    "        \n",
    "household_income_df = household_income_df[['Planning Area','$10,000 & Over']]\n",
    "household_income_df.columns = ['planning_area','over_10000']\n",
    "\n"
   ]
  },
  {
   "cell_type": "markdown",
   "id": "202ed353",
   "metadata": {},
   "source": [
    "#### 3.6 Joining two dataframe"
   ]
  },
  {
   "cell_type": "code",
   "execution_count": null,
   "id": "7d0723dc",
   "metadata": {},
   "outputs": [],
   "source": [
    "df = type_of_dwelling_df.merge(household_income_df, left_on='planning_area', right_on='planning_area')\n",
    "df.head()"
   ]
  },
  {
   "cell_type": "markdown",
   "id": "335353b0",
   "metadata": {},
   "source": [
    "## 4. Basic Data analytics\n",
    "#### 4.1 Scikit learn aka SK-learn\n",
    "The [scikit learn](https://scikit-learn.org/stable/) package contains modules that is commonly used in machine learning / data analytics. In this example, we are using the \"linear_model\" module. "
   ]
  },
  {
   "cell_type": "code",
   "execution_count": null,
   "id": "9f6a5078",
   "metadata": {},
   "outputs": [],
   "source": [
    "from sklearn import linear_model\n",
    "from sklearn import metrics"
   ]
  },
  {
   "cell_type": "markdown",
   "id": "040abd94",
   "metadata": {},
   "source": [
    "#### 4.2 Preparing data\n",
    "X and y are commonly used variable to indict the features (X) and the thing we are learning to predict(y)."
   ]
  },
  {
   "cell_type": "code",
   "execution_count": null,
   "id": "82ad5299",
   "metadata": {},
   "outputs": [],
   "source": [
    "feature_columns = df.columns[1:-1]\n",
    "target_column = df.columns[-1]\n",
    "X = df[feature_columns]\n",
    "y = df[target_column]\n",
    "\n",
    "print(feature_columns)\n",
    "print(target_column)"
   ]
  },
  {
   "cell_type": "markdown",
   "id": "62456a3b",
   "metadata": {},
   "source": [
    "#### 4.3 Fitting a Linear Regression model "
   ]
  },
  {
   "cell_type": "code",
   "execution_count": null,
   "id": "eec842f2",
   "metadata": {},
   "outputs": [],
   "source": [
    "reg = linear_model.LinearRegression()\n",
    "reg = reg.fit(X, y)"
   ]
  },
  {
   "cell_type": "markdown",
   "id": "bc549ae1",
   "metadata": {},
   "source": [
    "#### 4.4 Predicting using fitted model"
   ]
  },
  {
   "cell_type": "code",
   "execution_count": null,
   "id": "5b264603",
   "metadata": {},
   "outputs": [],
   "source": [
    "y_pred = reg.predict(X)\n",
    "df[\"prediction\"] = y_pred\n",
    "\n",
    "df"
   ]
  },
  {
   "cell_type": "markdown",
   "id": "3ab074d4",
   "metadata": {},
   "source": [
    "#### 4.5 Evaulating the model\n",
    "The most basic evaluation matrics is the mean absolute error."
   ]
  },
  {
   "cell_type": "code",
   "execution_count": null,
   "id": "2093237f",
   "metadata": {},
   "outputs": [],
   "source": [
    "metrics.mean_absolute_error(y, y_pred)"
   ]
  },
  {
   "cell_type": "markdown",
   "id": "7389d315",
   "metadata": {},
   "source": [
    "Other evaluation include RMSE (Root mean square error)"
   ]
  },
  {
   "cell_type": "code",
   "execution_count": null,
   "id": "484e33d6",
   "metadata": {
    "scrolled": true
   },
   "outputs": [],
   "source": [
    "metrics.mean_squared_error(y, y_pred)"
   ]
  },
  {
   "cell_type": "markdown",
   "id": "59997edc",
   "metadata": {},
   "source": [
    "And R-square value. The r-square, measure how much of the variation in the data is explained by the model. A r-square value of 0 means that the model is as good as just predicting the average, and that none of the variation above or below the average is explained by the model."
   ]
  },
  {
   "cell_type": "code",
   "execution_count": null,
   "id": "6b37dda8",
   "metadata": {},
   "outputs": [],
   "source": [
    "reg.score(X, y)"
   ]
  },
  {
   "cell_type": "markdown",
   "id": "1e9d837e",
   "metadata": {},
   "source": [
    "#### 4.6 Interpreting the results"
   ]
  },
  {
   "cell_type": "code",
   "execution_count": null,
   "id": "80e4e6ef",
   "metadata": {},
   "outputs": [],
   "source": [
    "reg.intercept_"
   ]
  },
  {
   "cell_type": "code",
   "execution_count": null,
   "id": "28f7cb57",
   "metadata": {},
   "outputs": [],
   "source": [
    "pd.DataFrame(df.columns[1:-2], reg.coef_)"
   ]
  },
  {
   "cell_type": "markdown",
   "id": "e1d84bb5",
   "metadata": {},
   "source": [
    "The formula generated by the model is as follows:  \n",
    "Prediction = 0.1717522032461692  \n",
    "&emsp;&emsp;&emsp;&emsp;&emsp;- 3.499031 * others  \n",
    "&emsp;&emsp;&emsp;&emsp;&emsp;+ 0.623853 * landed_properties  \n",
    "&emsp;&emsp;&emsp;&emsp;&emsp;+ 0.407940 * condominiums_and_other_apartments  \n",
    "&emsp;&emsp;&emsp;&emsp;&emsp;+ 0.134823 * flats_5_room_and_executive  \n",
    "&emsp;&emsp;&emsp;&emsp;&emsp;- 0.066268 * flats_1_2_room  \n",
    "&emsp;&emsp;&emsp;&emsp;&emsp;- 0.044635 * flats_3_room  "
   ]
  },
  {
   "cell_type": "markdown",
   "id": "543accab",
   "metadata": {},
   "source": [
    "From this we can say that the model suggests that:\n",
    "- \"Others\" has the highest influence on the prediction the greater the value of \"others\" the smaller the prediction.\n",
    "- \"landed_properties\" has the 2nd highest influence. The bigger the value of \"landed_propertes\" the bigger the prediction.\n",
    "- \"condominiums_and_other_apartments\" has the 3rd highest influence. The bigger the value of \"condominiums_and_other_apartments\" the bigger the prediction.\n",
    "- For \"flats_1_2_room\" and \"flats_3_room\", the larger the value the smaller the prediction."
   ]
  }
 ],
 "metadata": {
  "kernelspec": {
   "display_name": "Python 3 (ipykernel)",
   "language": "python",
   "name": "python3"
  },
  "language_info": {
   "codemirror_mode": {
    "name": "ipython",
    "version": 3
   },
   "file_extension": ".py",
   "mimetype": "text/x-python",
   "name": "python",
   "nbconvert_exporter": "python",
   "pygments_lexer": "ipython3",
   "version": "3.8.11"
  }
 },
 "nbformat": 4,
 "nbformat_minor": 5
}
